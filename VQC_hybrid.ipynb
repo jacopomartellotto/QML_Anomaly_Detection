{
 "cells": [
  {
   "cell_type": "markdown",
   "metadata": {},
   "source": [
    "- PCA 24 feature \n",
    "- parte classica permutazioni\n",
    "- Feature map \n",
    "- Ansatz \n",
    "- Misura"
   ]
  }
 ],
 "metadata": {
  "language_info": {
   "name": "python"
  }
 },
 "nbformat": 4,
 "nbformat_minor": 5
}
