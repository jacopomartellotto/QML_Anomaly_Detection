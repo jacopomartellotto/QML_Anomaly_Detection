{
 "cells": [
  {
   "cell_type": "markdown",
   "metadata": {},
   "source": [
    "- PCA 24 feature \n",
    "- parte classica permutazioni\n",
    "- Feature map \n",
    "- Ansatz \n",
    "- n misure \n",
    "- Rete classica\n",
    "- classificazione"
   ]
  }
 ],
 "metadata": {
  "language_info": {
   "name": "python"
  }
 },
 "nbformat": 4,
 "nbformat_minor": 5
}
